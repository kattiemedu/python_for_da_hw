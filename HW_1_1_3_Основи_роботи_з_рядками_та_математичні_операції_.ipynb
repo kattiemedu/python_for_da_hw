{
  "nbformat": 4,
  "nbformat_minor": 0,
  "metadata": {
    "colab": {
      "provenance": [],
      "include_colab_link": true
    },
    "kernelspec": {
      "name": "python3",
      "display_name": "Python 3"
    },
    "language_info": {
      "name": "python"
    }
  },
  "cells": [
    {
      "cell_type": "markdown",
      "metadata": {
        "id": "view-in-github",
        "colab_type": "text"
      },
      "source": [
        "<a href=\"https://colab.research.google.com/github/kattiemedu/python_for_da_hw/blob/main/Copy_of_hw_1_1_3_%D0%9E%D1%81%D0%BD%D0%BE%D0%B2%D0%B8_%D1%80%D0%BE%D0%B1%D0%BE%D1%82%D0%B8_%D0%B7_%D1%80%D1%8F%D0%B4%D0%BA%D0%B0%D0%BC%D0%B8_%D1%82%D0%B0_%D0%BC%D0%B0%D1%82%D0%B5%D0%BC%D0%B0%D1%82%D0%B8%D1%87%D0%BD%D1%96_%D0%BE%D0%BF%D0%B5%D1%80%D0%B0%D1%86%D1%96%D1%97_.ipynb\" target=\"_parent\"><img src=\"https://colab.research.google.com/assets/colab-badge.svg\" alt=\"Open In Colab\"/></a>"
      ]
    },
    {
      "cell_type": "markdown",
      "source": [
        "# Домашнє завдання до теми \"Основи роботи з рядками та математичні операції\""
      ],
      "metadata": {
        "id": "9ngpqNFm8w1a"
      }
    },
    {
      "cell_type": "markdown",
      "source": [
        "1. Створіть змінні `a`, `b`, `c` та `d`, задайте їм значення відповідно 101, 210, 111, 402, та обчисліть з допомогою Python наступний вираз:  $$ \\frac{(a+b) * c}{d} $$\n",
        "\n",
        "**Важливо**: тут ми маємо обчислити значення саме з використанням змінних, а не просто чисел, як би ми робили у калькуряторі. Змінні потрібні аби за бажання ми могли змінити їх значення та не переписувати код обчислення виразу, бо він буде працювати для різних значень змінних."
      ],
      "metadata": {
        "id": "DEkQSeSyTum-"
      }
    },
    {
      "cell_type": "code",
      "source": [
        "a = 101\n",
        "b = 210\n",
        "c = 111\n",
        "d = 402\n",
        "res = (a+b)*c/d"
      ],
      "metadata": {
        "id": "u1ICQq5L3eKH"
      },
      "execution_count": 1,
      "outputs": []
    },
    {
      "cell_type": "code",
      "source": [
        "print(res)"
      ],
      "metadata": {
        "colab": {
          "base_uri": "https://localhost:8080/"
        },
        "id": "Dm_7c45BFlJP",
        "outputId": "e4b75896-080e-4090-8af8-9c2063453663"
      },
      "execution_count": 2,
      "outputs": [
        {
          "output_type": "stream",
          "name": "stdout",
          "text": [
            "85.8731343283582\n"
          ]
        }
      ]
    },
    {
      "cell_type": "markdown",
      "source": [
        "Очікувана відповідь: 85.8731343283582"
      ],
      "metadata": {
        "id": "FnBVPt7G3bcR"
      }
    },
    {
      "cell_type": "markdown",
      "source": [
        "2. Якою буде остача від ділення числа 11283 на 89? Обчисліть з допомогою Python."
      ],
      "metadata": {
        "id": "HI3eEYZRT4Cn"
      }
    },
    {
      "cell_type": "code",
      "execution_count": 3,
      "metadata": {
        "id": "ejZc3ng_TpgY",
        "colab": {
          "base_uri": "https://localhost:8080/"
        },
        "outputId": "7e174fa4-4fcf-4c3e-bb99-13532f6a2655"
      },
      "outputs": [
        {
          "output_type": "execute_result",
          "data": {
            "text/plain": [
              "69"
            ]
          },
          "metadata": {},
          "execution_count": 3
        }
      ],
      "source": [
        "11283 % 89"
      ]
    },
    {
      "cell_type": "markdown",
      "source": [
        "3. Скільки цілих разів поміститься число 89 в 11283? (Або що те саме: який буде результат цілочисельного ділення 11283 на 89?)"
      ],
      "metadata": {
        "id": "RO02CqdqT9oG"
      }
    },
    {
      "cell_type": "code",
      "source": [
        "11283 // 89"
      ],
      "metadata": {
        "id": "KEUb9lO5T_PI",
        "colab": {
          "base_uri": "https://localhost:8080/"
        },
        "outputId": "be03974e-0c3e-4977-ca55-c4ef78a3df63"
      },
      "execution_count": 4,
      "outputs": [
        {
          "output_type": "execute_result",
          "data": {
            "text/plain": [
              "126"
            ]
          },
          "metadata": {},
          "execution_count": 4
        }
      ]
    },
    {
      "cell_type": "markdown",
      "source": [
        "4. Запишіть у змінну `name` ваше імʼя."
      ],
      "metadata": {
        "id": "5fnIPumiT_rt"
      }
    },
    {
      "cell_type": "code",
      "source": [
        "name = 'Kateryna'\n",
        "print (name)"
      ],
      "metadata": {
        "id": "xP7Mbq45UFlV",
        "colab": {
          "base_uri": "https://localhost:8080/"
        },
        "outputId": "b7276fbf-aaf1-40dd-bc0a-278b90df8d71"
      },
      "execution_count": 6,
      "outputs": [
        {
          "output_type": "stream",
          "name": "stdout",
          "text": [
            "Kateryna\n"
          ]
        }
      ]
    },
    {
      "cell_type": "markdown",
      "source": [
        "5. Запишіть у змінну `surname` ваше прізвище."
      ],
      "metadata": {
        "id": "fR9TqY79UNDL"
      }
    },
    {
      "cell_type": "code",
      "source": [
        "surname = 'Melakh'\n",
        "print (surname)"
      ],
      "metadata": {
        "id": "0qHjyMyvUOM1",
        "colab": {
          "base_uri": "https://localhost:8080/"
        },
        "outputId": "0043dfad-4404-477b-e86f-0d816d1ecd17"
      },
      "execution_count": 7,
      "outputs": [
        {
          "output_type": "stream",
          "name": "stdout",
          "text": [
            "Melakh\n"
          ]
        }
      ]
    },
    {
      "cell_type": "markdown",
      "source": [
        "6. Сконкатенуйте імʼя та прізвище в одну фразу через пробіл. Запишіть результат у нову змінну `name_surname` та виведіть результат на екран.  "
      ],
      "metadata": {
        "id": "zqKncQLwUOxh"
      }
    },
    {
      "cell_type": "code",
      "source": [
        "name_surname = name + \" \" + surname"
      ],
      "metadata": {
        "id": "8E-blvN-UTPg"
      },
      "execution_count": 8,
      "outputs": []
    },
    {
      "cell_type": "code",
      "source": [
        "print(name_surname)"
      ],
      "metadata": {
        "colab": {
          "base_uri": "https://localhost:8080/"
        },
        "id": "Up8LnsuFNuca",
        "outputId": "69d70287-c631-44ae-d01f-5a919f4dede1"
      },
      "execution_count": 9,
      "outputs": [
        {
          "output_type": "stream",
          "name": "stdout",
          "text": [
            "Kateryna Melakh\n"
          ]
        }
      ]
    },
    {
      "cell_type": "markdown",
      "source": [
        "Очікувана відповідь (тільки з вашими даними): 'Hanna Pylieva'"
      ],
      "metadata": {
        "id": "_Unl7EXlUgYn"
      }
    },
    {
      "cell_type": "markdown",
      "source": [
        "7. Зробіть усі літери змінної `name_surname` заглавними використовуючи метод рядків в Python:"
      ],
      "metadata": {
        "id": "z-3FI0IrUT0U"
      }
    },
    {
      "cell_type": "code",
      "source": [
        "print(name_surname.upper())"
      ],
      "metadata": {
        "id": "9ahIwyT5UblY",
        "colab": {
          "base_uri": "https://localhost:8080/"
        },
        "outputId": "d8889de4-2e26-4016-99d0-74fd9bd307d8"
      },
      "execution_count": 10,
      "outputs": [
        {
          "output_type": "stream",
          "name": "stdout",
          "text": [
            "KATERYNA MELAKH\n"
          ]
        }
      ]
    },
    {
      "cell_type": "markdown",
      "source": [
        "Очікувана відповідь (тільки з вашими даними): 'HANNA PYLIEVA'"
      ],
      "metadata": {
        "id": "6PDcqfmdUcLo"
      }
    },
    {
      "cell_type": "code",
      "source": [],
      "metadata": {
        "id": "K40EaRr2UfsH"
      },
      "execution_count": null,
      "outputs": []
    },
    {
      "cell_type": "markdown",
      "source": [
        "8. Виведіть третю літеру вашого `name_surname`. Тут уважно, треба саме третя літера. Згадайте, з якого значення починається індексування значень в Python."
      ],
      "metadata": {
        "id": "qNl8KxeXUtnL"
      }
    },
    {
      "cell_type": "code",
      "source": [
        "name_surname[2]"
      ],
      "metadata": {
        "id": "Tp7stqAhUvJz",
        "colab": {
          "base_uri": "https://localhost:8080/",
          "height": 35
        },
        "outputId": "cca7fa80-bf9c-4456-baa8-ce76a0986476"
      },
      "execution_count": 12,
      "outputs": [
        {
          "output_type": "execute_result",
          "data": {
            "text/plain": [
              "'t'"
            ],
            "application/vnd.google.colaboratory.intrinsic+json": {
              "type": "string"
            }
          },
          "metadata": {},
          "execution_count": 12
        }
      ]
    },
    {
      "cell_type": "markdown",
      "source": [
        "Очікувана відповідь (тільки з вашими даними): 'n'"
      ],
      "metadata": {
        "id": "GYWHqb3UUvqk"
      }
    },
    {
      "cell_type": "markdown",
      "metadata": {
        "pycharm": {
          "name": "#%% md\n"
        },
        "id": "1f3cc1a7"
      },
      "source": [
        "9. Виведіть першу та останню літеру вашого прізвища."
      ]
    },
    {
      "cell_type": "code",
      "source": [
        "name_surname[0], name_surname[-1]"
      ],
      "metadata": {
        "id": "s1ZgN3xuUyB8",
        "colab": {
          "base_uri": "https://localhost:8080/"
        },
        "outputId": "0c2fbebc-066d-421f-dfc1-a23aecf41598"
      },
      "execution_count": 13,
      "outputs": [
        {
          "output_type": "execute_result",
          "data": {
            "text/plain": [
              "('K', 'h')"
            ]
          },
          "metadata": {},
          "execution_count": 13
        }
      ]
    },
    {
      "cell_type": "markdown",
      "source": [
        "Очікувана відповідь (тільки з вашими даними): ('P', 'a')"
      ],
      "metadata": {
        "id": "KjlFjjhHVAt2"
      }
    },
    {
      "cell_type": "markdown",
      "source": [
        "10. Виведіть довжину вашого прізвища."
      ],
      "metadata": {
        "id": "UYLoho3DVMt2"
      }
    },
    {
      "cell_type": "code",
      "source": [
        "len(name_surname)"
      ],
      "metadata": {
        "id": "0TPJBh0LVA8q",
        "colab": {
          "base_uri": "https://localhost:8080/"
        },
        "outputId": "8094a384-0c51-4683-a569-3a7e549f8d34"
      },
      "execution_count": 15,
      "outputs": [
        {
          "output_type": "execute_result",
          "data": {
            "text/plain": [
              "15"
            ]
          },
          "metadata": {},
          "execution_count": 15
        }
      ]
    },
    {
      "cell_type": "markdown",
      "source": [
        "Очікувана відповідь (тільки з вашими даними): 7\n"
      ],
      "metadata": {
        "id": "9FaxqvVgVRYW"
      }
    },
    {
      "cell_type": "markdown",
      "source": [
        "11. Виведіть кількість літер `a` у столиці Мадагаскару `Antananarivo`. Важливо врахувати всі літери, як великі, так і маленькі."
      ],
      "metadata": {
        "id": "JN2wxSlGVVAj"
      }
    },
    {
      "cell_type": "code",
      "source": [
        "capital_magaskar = 'Antananarivo'\n",
        "lower_capital_magaskar = capital_magaskar.lower()\n",
        "count_a = lower_capital_magaskar.count(\"a\")\n",
        "print(count_a)"
      ],
      "metadata": {
        "id": "LCeHHz9bVUgL",
        "colab": {
          "base_uri": "https://localhost:8080/"
        },
        "outputId": "f18dc581-e3ab-468b-fa50-e349d359f7c7"
      },
      "execution_count": 20,
      "outputs": [
        {
          "output_type": "stream",
          "name": "stdout",
          "text": [
            "4\n"
          ]
        }
      ]
    },
    {
      "cell_type": "markdown",
      "source": [
        "Очікувана відповідь: 4"
      ],
      "metadata": {
        "id": "Ux4SQiuSVo92"
      }
    },
    {
      "cell_type": "markdown",
      "source": [
        "12. Створіть рядок `my_string` зі значенням: \"The quick brown fox jumps over the lazy dog!!!\".   \n",
        "Перевірте, чи починається рядок `my_string` з \"The\" і чи закінчується він \"dog!\". Виведіть результати на екран."
      ],
      "metadata": {
        "id": "mwEs0xnmVtes"
      }
    },
    {
      "cell_type": "code",
      "source": [
        "my_string = \"The quick brown fox jumps over the lazy dog!!!\"\n",
        "print(my_string.startswith(\"The\"))\n",
        "print(my_string.endswith(\"dog!\"))"
      ],
      "metadata": {
        "id": "VlXDNpXcVs59",
        "colab": {
          "base_uri": "https://localhost:8080/"
        },
        "outputId": "6c251d18-89ba-43ad-90f4-7ccaace16ac5"
      },
      "execution_count": 22,
      "outputs": [
        {
          "output_type": "stream",
          "name": "stdout",
          "text": [
            "True\n",
            "False\n"
          ]
        }
      ]
    },
    {
      "cell_type": "markdown",
      "source": [
        "13. Розділіть рядок `my_string` на список окремих слів, а потім з'єднайте всі слова через нижнє підкреслювання. Виведіть результат на екран."
      ],
      "metadata": {
        "id": "Yc-UwtqvV_h0"
      }
    },
    {
      "cell_type": "code",
      "source": [
        "print(my_string)\n",
        "print(my_string.split())\n",
        "print(\"_\".join(my_string.split()))"
      ],
      "metadata": {
        "id": "m5I48Ii-WDSK",
        "colab": {
          "base_uri": "https://localhost:8080/"
        },
        "outputId": "ce15552d-4e2a-4f09-837d-f61772943a31"
      },
      "execution_count": 24,
      "outputs": [
        {
          "output_type": "stream",
          "name": "stdout",
          "text": [
            "The quick brown fox jumps over the lazy dog!!!\n",
            "['The', 'quick', 'brown', 'fox', 'jumps', 'over', 'the', 'lazy', 'dog!!!']\n",
            "The_quick_brown_fox_jumps_over_the_lazy_dog!!!\n"
          ]
        }
      ]
    },
    {
      "cell_type": "markdown",
      "source": [
        "Очікуваний результат: `The_quick_brown_fox_jumps_over_the_lazy_dog!!!`"
      ],
      "metadata": {
        "id": "UqvD1_jIXRhx"
      }
    }
  ]
}
